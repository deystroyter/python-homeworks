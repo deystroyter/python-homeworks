{
 "cells": [
  {
   "cell_type": "markdown",
   "metadata": {},
   "source": [
    "                                    Variant 29 | Fedorov Andrey 3530903/70302"
   ]
  },
  {
   "cell_type": "markdown",
   "metadata": {},
   "source": [
    "## Задание 4.2"
   ]
  },
  {
   "cell_type": "markdown",
   "metadata": {},
   "source": [
    "Реализовать генетический алгоритмрешения задачи о рюкзаке, используя свой набор генетических операторов (определяется номером в списке и другими параметрами), и получить результаты на своем наборе данных (определяется номером в списке)."
   ]
  },
  {
   "cell_type": "markdown",
   "metadata": {},
   "source": [
    "**1. Начальная популяция – кол-во особей всегда  = 200:**\n",
    "\n",
    "    1.2 - жадный выбор, начиная со случайного груза\n",
    "\n",
    "**2. Отбор особей для скрещивания:**\n",
    "\n",
    "    2.2 - выбрать только 20% самых приспособленных особей\n",
    "\n",
    "**3. Скрещивание (кроссинговер) между выбранными особями. Каждая особь скрещивается 1 раз за 1 поколение, 1 пара дает 2 потомка:**\n",
    "\n",
    "    3.2 - однородный (каждый бит от случайно выбранного родителя)\n",
    "\n",
    "**4. Мутация:**\n",
    "\n",
    "    4.2 случайное изменение 3х битов у 5% особей\n",
    "\n",
    "**5. Формирование новой популяции (кол-во особей - константа)**\n",
    "\n",
    "    5.3 - замена своих родителей\n"
   ]
  },
  {
   "cell_type": "code",
   "execution_count": 1,
   "metadata": {},
   "outputs": [],
   "source": [
    "import numpy\n",
    "import random\n",
    "import math"
   ]
  },
  {
   "cell_type": "code",
   "execution_count": 2,
   "metadata": {},
   "outputs": [],
   "source": [
    "data=[]\n",
    "weidhts=[]\n",
    "volumes=[]\n",
    "values=[]\n",
    "file = open('data/29.txt')\n",
    "for line in file:\n",
    "    data.append(line.split())\n",
    "maxVolume = float(data[0][1])\n",
    "maxWeight = float(data[0][0])\n",
    "del data[0]\n",
    "for item in data:\n",
    "    weidhts.append(float(item[0]))\n",
    "    volumes.append(float(item[1]))\n",
    "    values.append(float(item[2]))\n",
    "\n",
    "indNum=200\n",
    "population = []"
   ]
  },
  {
   "cell_type": "code",
   "execution_count": 3,
   "metadata": {},
   "outputs": [],
   "source": [
    "indexes = list(range(len(data)))\n",
    "indexedDictData = dict(zip(indexes, data))\n",
    "list_Data = list(indexedDictData.items())\n",
    "list_Data.sort(key=lambda i: float(i[1][2])) #сортировка по ценности\n",
    "list_Data.reverse()"
   ]
  },
  {
   "cell_type": "code",
   "execution_count": 4,
   "metadata": {},
   "outputs": [],
   "source": [
    "#1. Начальная популяция - жадный выбор\n",
    "population = []\n",
    "#для каждого индивида\n",
    "for i in range(indNum):\n",
    "    individual=''\n",
    "    #заполняем нулями 30 грузов\n",
    "    for j in range(len(data)):\n",
    "        individual+='0'\n",
    "    indWeight = 0\n",
    "    indVolume = 0\n",
    "    #начало со случайного\n",
    "    tempRand = random.randrange(len(data))\n",
    "    individual = individual[:tempRand] + '1' + individual[tempRand+1:len(individual)]\n",
    "    indIndexes = [tempRand]\n",
    "    indWeight = float(indexedDictData[tempRand][0])\n",
    "    indVolume = float(indexedDictData[tempRand][1])\n",
    "    #для каждого отсортированного груза\n",
    "    for z in range(len(individual)):\n",
    "        #если попали на тот, который выбран рандомно\n",
    "        if list_Data[z][0] in indIndexes:\n",
    "            continue;\n",
    "        tempWeight = float(list_Data[z][1][0])\n",
    "        tempVolume = float(list_Data[z][1][1])\n",
    "        #если превышен макс. вес или макс. объем\n",
    "        if indWeight + tempWeight >= maxWeight or indVolume + tempVolume >= maxVolume:\n",
    "            break;\n",
    "        else:\n",
    "            indWeight+=tempWeight\n",
    "            indVolume+=tempVolume\n",
    "            indIndexes.append(list_Data[z][0])\n",
    "            individual = individual[:list_Data[z][0]] + '1' + individual[list_Data[z][0]+1:len(individual)]\n",
    "    population.append(individual)"
   ]
  },
  {
   "cell_type": "code",
   "execution_count": 5,
   "metadata": {},
   "outputs": [],
   "source": [
    "#1. Начальная популяция - случайная генерация\n",
    "#population = []\n",
    "#for i in range(indNum):\n",
    "#    individual=''\n",
    "#    for j in range(len(data)):\n",
    "#        individual+=(random.randrange(2))\n",
    "#    population.append(individual)"
   ]
  },
  {
   "cell_type": "code",
   "execution_count": 6,
   "metadata": {},
   "outputs": [],
   "source": [
    "def fitness(individual):\n",
    "    weight = 0.0\n",
    "    volume = 0.0\n",
    "    value = 0.0\n",
    "    for i in range(len(individual)):\n",
    "        weight += int(individual[i])*weidhts[i]\n",
    "        volume += int(individual[i])*volumes[i]\n",
    "        value += int(individual[i])*values[i]\n",
    "    if volume > maxVolume or weight > maxWeight:\n",
    "        return maxWeight, maxVolume,  0           \n",
    "    return weight, volume, value"
   ]
  },
  {
   "cell_type": "code",
   "execution_count": 7,
   "metadata": {},
   "outputs": [],
   "source": [
    "#2. Отбор для скрещивания - 20% самых приспособленных\n",
    "def selection(population):\n",
    "    sortedPop = sorted(population, key=  lambda i: fitness(i)[2], reverse=True)\n",
    "    indForCross=[]\n",
    "    for i in range(math.floor(len(sortedPop)*0.2)):\n",
    "        indForCross.append(sortedPop[i])\n",
    "    return indForCross"
   ]
  },
  {
   "cell_type": "code",
   "execution_count": 8,
   "metadata": {},
   "outputs": [],
   "source": [
    "#3. Скрещивание однородное (каждый бит от случайного родителя) Check\n",
    "def crossingover(indForCross):\n",
    "    children=[]\n",
    "    parentsArr = [i for i in range(len(indForCross))]\n",
    "    #print(parentsArr)\n",
    "    for i in range(len(indForCross)):\n",
    "        newBorn1=''\n",
    "        newBorn2=''\n",
    "        if i<len(indForCross)-i-1:\n",
    "            for j in range(len(data)):\n",
    "                if indForCross[i][j] == indForCross[len(indForCross)-i-1][j]:\n",
    "                    bit=indForCross[i][j]\n",
    "                    newBorn1+=bit\n",
    "                    newBorn2+=bit\n",
    "                else:\n",
    "                    bit=random.randrange(2)\n",
    "                    newBorn1+=str(bit)\n",
    "                    bit=random.randrange(2)\n",
    "                    newBorn2+=str(bit)\n",
    "            children.append(newBorn1)\n",
    "            children.append(newBorn2)\n",
    "    return children"
   ]
  },
  {
   "cell_type": "code",
   "execution_count": 9,
   "metadata": {},
   "outputs": [],
   "source": [
    "numBits = 3\n",
    "#4. Мутация - случайное изменение 3-ёх битов у 5% особей\n",
    "def mutation(children):\n",
    "    childList = []\n",
    "    #для 5% детей\n",
    "    for i in range(math.floor(len(children)*0.05)): #5% в штуках\n",
    "        childNum=random.randrange(len(children)) # наугад выбираем ребёнка\n",
    "        while(childNum in childList):\n",
    "            childNum=random.randrange(len(children))\n",
    "        childList.append(childNum)\n",
    "        \n",
    "        bitList = []\n",
    "        #для 3 битов\n",
    "        for j in range(numBits):\n",
    "            bitNum=random.randrange(len(children[i])) # наугад выбираем бит\n",
    "            while(bitNum in bitList):\n",
    "                bitNum=random.randrange(len(children[i]))\n",
    "            bitList.append(bitNum)\n",
    "            if(children[childNum][bitNum]=='1'):\n",
    "                children[childNum] = children[childNum][:bitNum] +'0'+children[childNum][bitNum+1:len(children[i])]\n",
    "            else:\n",
    "                children[childNum] = children[childNum][:bitNum] +'1'+children[childNum][bitNum+1:len(children[i])]\n",
    "\n",
    "\n",
    "    return children"
   ]
  },
  {
   "cell_type": "code",
   "execution_count": 10,
   "metadata": {},
   "outputs": [],
   "source": [
    "#5. Формирование новой популяции - замена своих родителей\n",
    "def createNewPopulation(population, parents, children):\n",
    "    newPopulation=[]\n",
    "    individEntry ={}\n",
    "    for child in children:\n",
    "        newPopulation.append(child)       \n",
    "    for individ in population:\n",
    "        individEntry[individ] = 0\n",
    "    for individ in parents:\n",
    "        individEntry[individ] +=1\n",
    "    for individ in population:\n",
    "        if individEntry[individ]==0:\n",
    "            newPopulation.append(individ)\n",
    "        else:\n",
    "            individEntry[individ] -=1\n",
    "    return newPopulation"
   ]
  },
  {
   "cell_type": "code",
   "execution_count": 11,
   "metadata": {},
   "outputs": [],
   "source": [
    "def solver(population):\n",
    "    lastIterRes=0\n",
    "    for i in range(500):\n",
    "        selectedInd=selection(population)\n",
    "        children=crossingover(selectedInd)\n",
    "        mutChildren=mutation(children)\n",
    "        population=createNewPopulation(population, selectedInd, mutChildren)\n",
    "        bestIndivid=sorted(population, key=  lambda i: fitness(i)[2], reverse=True)[0]\n",
    "        bestIndividFit=fitness(bestIndivid)[2]\n",
    "        if abs(bestIndividFit-lastIterRes) < math.floor(int(list_Data[len(list_Data)-1][1][2])):\n",
    "            return bestIndivid\n",
    "        if i>0 and i%15==0:\n",
    "            lastIterRes=bestIndividFit\n",
    "    return bestIndivid"
   ]
  },
  {
   "cell_type": "code",
   "execution_count": 12,
   "metadata": {
    "scrolled": false
   },
   "outputs": [
    {
     "name": "stdout",
     "output_type": "stream",
     "text": [
      "Рюкзачок\n",
      "------------------\n",
      "3 ['369', '0.7', '368']\n",
      "5 ['1360', '0.9', '336']\n",
      "7 ['216', '1.2', '268']\n",
      "9 ['946', '0.4', '367']\n",
      "11 ['333', '0.9', '376']\n",
      "13 ['817', '0.9', '345']\n",
      "14 ['1430', '0.5', '329']\n",
      "15 ['120', '0.9', '312']\n",
      "21 ['519', '0.7', '376']\n",
      "24 ['939', '0.7', '332']\n",
      "25 ['1049', '0.5', '336']\n",
      "26 ['1613', '0.5', '263']\n",
      "27 ['578', '0.9', '371']\n",
      "28 ['874', '1.1', '285']\n",
      "29 ['1652', '0.8', '318']\n",
      "------------------\n",
      "Total Weight: 12815.0\n",
      "Total Volume: 11.6\n",
      "Total Value: 4982.0\n",
      "------------------\n",
      "Max weight: 13000.0\n",
      "Max volume: 12.0\n"
     ]
    }
   ],
   "source": [
    "best=solver(population)\n",
    "print(\"Рюкзачок\")\n",
    "print(\"------------------\")\n",
    "for i in range(len(best)):\n",
    "    if(best[i]=='1'):\n",
    "        print(i, data[i])\n",
    "print(\"------------------\")\n",
    "print(\"Total Weight:\", fitness(best)[0])\n",
    "print(\"Total Volume:\", round(fitness(best)[1],2))\n",
    "print(\"Total Value:\", fitness(best)[2])\n",
    "print(\"------------------\")\n",
    "print(\"Max weight:\",maxWeight)\n",
    "print(\"Max volume:\",maxVolume)"
   ]
  }
 ],
 "metadata": {
  "kernelspec": {
   "display_name": "Python 3",
   "language": "python",
   "name": "python3"
  },
  "language_info": {
   "codemirror_mode": {
    "name": "ipython",
    "version": 3
   },
   "file_extension": ".py",
   "mimetype": "text/x-python",
   "name": "python",
   "nbconvert_exporter": "python",
   "pygments_lexer": "ipython3",
   "version": "3.8.5"
  }
 },
 "nbformat": 4,
 "nbformat_minor": 4
}
