{
 "cells": [
  {
   "cell_type": "markdown",
   "metadata": {},
   "source": [
    "**Fedorov Andrey 3530903/70302**"
   ]
  },
  {
   "cell_type": "markdown",
   "metadata": {},
   "source": [
    "# Surprise homework"
   ]
  },
  {
   "cell_type": "code",
   "execution_count": 2,
   "metadata": {},
   "outputs": [],
   "source": [
    "import io \n",
    "import os\n",
    "import pandas as pd\n",
    "from collections import defaultdict\n",
    "from surprise import SVD\n",
    "from surprise import Dataset\n",
    "from surprise import KNNWithMeans\n",
    "from surprise import NormalPredictor\n",
    "from surprise.model_selection import cross_validate\n",
    "from surprise.model_selection import KFold\n",
    "from surprise.model_selection import train_test_split"
   ]
  },
  {
   "cell_type": "code",
   "execution_count": 3,
   "metadata": {},
   "outputs": [],
   "source": [
    "data = Dataset.load_builtin('ml-100k')\n",
    "k = 30\n",
    "trainset, testset = train_test_split(data, test_size=.25)"
   ]
  },
  {
   "cell_type": "markdown",
   "metadata": {},
   "source": [
    "### 1. Оценить по метрике RMSE с помощью функции cross_validate следующие алгоритмы:"
   ]
  },
  {
   "cell_type": "markdown",
   "metadata": {},
   "source": [
    "> Intel Core i7 7700HQ (3.80Ghz), 16Gb RAM"
   ]
  },
  {
   "cell_type": "markdown",
   "metadata": {},
   "source": [
    "**• прогнозирование случайного рейтинга на основе распределения всех рейтингов в наборе;**"
   ]
  },
  {
   "cell_type": "code",
   "execution_count": 19,
   "metadata": {},
   "outputs": [
    {
     "name": "stdout",
     "output_type": "stream",
     "text": [
      "Evaluating RMSE of algorithm NormalPredictor on 5 split(s).\n",
      "\n",
      "                  Fold 1  Fold 2  Fold 3  Fold 4  Fold 5  Mean    Std     \n",
      "RMSE (testset)    1.5200  1.5248  1.5198  1.5256  1.5138  1.5208  0.0042  \n",
      "Fit time          0.12    0.17    0.15    0.14    0.15    0.15    0.01    \n",
      "Test time         0.19    0.17    0.18    0.12    0.16    0.16    0.02    \n"
     ]
    },
    {
     "data": {
      "text/plain": [
       "{'test_rmse': array([1.51997438, 1.52482455, 1.51975604, 1.52559806, 1.51379004]),\n",
       " 'fit_time': (0.12366938591003418,\n",
       "  0.1670513153076172,\n",
       "  0.15448212623596191,\n",
       "  0.13869452476501465,\n",
       "  0.14824676513671875),\n",
       " 'test_time': (0.1878678798675537,\n",
       "  0.17316222190856934,\n",
       "  0.17656183242797852,\n",
       "  0.11973381042480469,\n",
       "  0.1599271297454834)}"
      ]
     },
     "execution_count": 19,
     "metadata": {},
     "output_type": "execute_result"
    }
   ],
   "source": [
    "algo = NormalPredictor()\n",
    "cross_validate(algo, data, measures=['RMSE'], cv=5, verbose=True)"
   ]
  },
  {
   "cell_type": "markdown",
   "metadata": {},
   "source": [
    "**• user-based коллаборативную фильтрацию, метод kNN, k = 30, метрика косинуса;**"
   ]
  },
  {
   "cell_type": "code",
   "execution_count": 20,
   "metadata": {},
   "outputs": [
    {
     "name": "stdout",
     "output_type": "stream",
     "text": [
      "Computing the cosine similarity matrix...\n",
      "Done computing similarity matrix.\n",
      "Computing the cosine similarity matrix...\n",
      "Done computing similarity matrix.\n",
      "Computing the cosine similarity matrix...\n",
      "Done computing similarity matrix.\n",
      "Computing the cosine similarity matrix...\n",
      "Done computing similarity matrix.\n",
      "Computing the cosine similarity matrix...\n",
      "Done computing similarity matrix.\n",
      "Evaluating RMSE of algorithm KNNWithMeans on 5 split(s).\n",
      "\n",
      "                  Fold 1  Fold 2  Fold 3  Fold 4  Fold 5  Mean    Std     \n",
      "RMSE (testset)    0.9595  0.9621  0.9543  0.9484  0.9655  0.9580  0.0060  \n",
      "Fit time          1.70    1.65    1.68    1.63    1.71    1.67    0.03    \n",
      "Test time         3.37    3.53    3.55    3.55    3.26    3.45    0.12    \n"
     ]
    },
    {
     "data": {
      "text/plain": [
       "{'test_rmse': array([0.95954617, 0.96209696, 0.95426086, 0.94843325, 0.96551768]),\n",
       " 'fit_time': (1.696899652481079,\n",
       "  1.6475718021392822,\n",
       "  1.68438720703125,\n",
       "  1.6297259330749512,\n",
       "  1.7062370777130127),\n",
       " 'test_time': (3.365628480911255,\n",
       "  3.5271973609924316,\n",
       "  3.5513436794281006,\n",
       "  3.5484180450439453,\n",
       "  3.2646825313568115)}"
      ]
     },
     "execution_count": 20,
     "metadata": {},
     "output_type": "execute_result"
    }
   ],
   "source": [
    "algo = KNNWithMeans(k, sim_options={'name': 'cosine'})\n",
    "cross_validate(algo, data, measures=['RMSE'], cv=5, verbose=True)"
   ]
  },
  {
   "cell_type": "markdown",
   "metadata": {},
   "source": [
    "**• user-based коллаборативную фильтрацию, метод kNN, k = 30, метрика Mean Squared Difference;**"
   ]
  },
  {
   "cell_type": "code",
   "execution_count": 21,
   "metadata": {},
   "outputs": [
    {
     "name": "stdout",
     "output_type": "stream",
     "text": [
      "Computing the msd similarity matrix...\n",
      "Done computing similarity matrix.\n",
      "Computing the msd similarity matrix...\n",
      "Done computing similarity matrix.\n",
      "Computing the msd similarity matrix...\n",
      "Done computing similarity matrix.\n",
      "Computing the msd similarity matrix...\n",
      "Done computing similarity matrix.\n",
      "Computing the msd similarity matrix...\n",
      "Done computing similarity matrix.\n",
      "Evaluating RMSE of algorithm KNNWithMeans on 5 split(s).\n",
      "\n",
      "                  Fold 1  Fold 2  Fold 3  Fold 4  Fold 5  Mean    Std     \n",
      "RMSE (testset)    0.9599  0.9439  0.9461  0.9524  0.9577  0.9520  0.0062  \n",
      "Fit time          0.52    0.56    0.50    0.53    0.50    0.52    0.02    \n",
      "Test time         3.18    3.48    3.30    3.51    3.40    3.38    0.12    \n"
     ]
    },
    {
     "data": {
      "text/plain": [
       "{'test_rmse': array([0.95987406, 0.94393844, 0.9461354 , 0.95242314, 0.95769377]),\n",
       " 'fit_time': (0.5240600109100342,\n",
       "  0.5619943141937256,\n",
       "  0.5044445991516113,\n",
       "  0.5278263092041016,\n",
       "  0.4992671012878418),\n",
       " 'test_time': (3.182887554168701,\n",
       "  3.4842324256896973,\n",
       "  3.2988433837890625,\n",
       "  3.508477210998535,\n",
       "  3.402811050415039)}"
      ]
     },
     "execution_count": 21,
     "metadata": {},
     "output_type": "execute_result"
    }
   ],
   "source": [
    "algo = KNNWithMeans(k, sim_options={'name': 'msd'})\n",
    "cross_validate(algo, data, measures=['RMSE'], cv=5, verbose=True)"
   ]
  },
  {
   "cell_type": "markdown",
   "metadata": {},
   "source": [
    "**• user-based коллаборативную фильтрацию, метод kNN, k = 30, метрика корреляция Пирсона;**"
   ]
  },
  {
   "cell_type": "code",
   "execution_count": 22,
   "metadata": {},
   "outputs": [
    {
     "name": "stdout",
     "output_type": "stream",
     "text": [
      "Computing the pearson similarity matrix...\n",
      "Done computing similarity matrix.\n",
      "Computing the pearson similarity matrix...\n",
      "Done computing similarity matrix.\n",
      "Computing the pearson similarity matrix...\n",
      "Done computing similarity matrix.\n",
      "Computing the pearson similarity matrix...\n",
      "Done computing similarity matrix.\n",
      "Computing the pearson similarity matrix...\n",
      "Done computing similarity matrix.\n",
      "Evaluating RMSE of algorithm KNNWithMeans on 5 split(s).\n",
      "\n",
      "                  Fold 1  Fold 2  Fold 3  Fold 4  Fold 5  Mean    Std     \n",
      "RMSE (testset)    0.9443  0.9598  0.9543  0.9471  0.9494  0.9510  0.0055  \n",
      "Fit time          2.12    2.05    2.19    2.04    2.10    2.10    0.05    \n",
      "Test time         3.32    3.53    3.68    3.47    3.45    3.49    0.11    \n"
     ]
    },
    {
     "data": {
      "text/plain": [
       "{'test_rmse': array([0.94427382, 0.95976815, 0.95433109, 0.94710997, 0.94941565]),\n",
       " 'fit_time': (2.1207220554351807,\n",
       "  2.054023265838623,\n",
       "  2.1929798126220703,\n",
       "  2.038344144821167,\n",
       "  2.095888376235962),\n",
       " 'test_time': (3.3243727684020996,\n",
       "  3.5258591175079346,\n",
       "  3.6772937774658203,\n",
       "  3.4693939685821533,\n",
       "  3.44838547706604)}"
      ]
     },
     "execution_count": 22,
     "metadata": {},
     "output_type": "execute_result"
    }
   ],
   "source": [
    "algo = KNNWithMeans(k, sim_options={'name': 'pearson'})\n",
    "cross_validate(algo, data, measures=['RMSE'], cv=5, verbose=True)"
   ]
  },
  {
   "cell_type": "markdown",
   "metadata": {},
   "source": [
    "**• SVD алгоритм**"
   ]
  },
  {
   "cell_type": "code",
   "execution_count": 23,
   "metadata": {},
   "outputs": [
    {
     "name": "stdout",
     "output_type": "stream",
     "text": [
      "Evaluating RMSE of algorithm SVD on 5 split(s).\n",
      "\n",
      "                  Fold 1  Fold 2  Fold 3  Fold 4  Fold 5  Mean    Std     \n",
      "RMSE (testset)    0.9370  0.9266  0.9348  0.9457  0.9363  0.9361  0.0061  \n",
      "Fit time          4.79    5.27    4.92    4.77    5.33    5.02    0.24    \n",
      "Test time         0.18    0.24    0.13    0.17    0.22    0.19    0.04    \n"
     ]
    },
    {
     "data": {
      "text/plain": [
       "{'test_rmse': array([0.93699392, 0.92660815, 0.93479244, 0.94571161, 0.93628667]),\n",
       " 'fit_time': (4.7931342124938965,\n",
       "  5.268895864486694,\n",
       "  4.921316623687744,\n",
       "  4.767956256866455,\n",
       "  5.332972764968872),\n",
       " 'test_time': (0.17988109588623047,\n",
       "  0.2391958236694336,\n",
       "  0.12895417213439941,\n",
       "  0.1728513240814209,\n",
       "  0.21795439720153809)}"
      ]
     },
     "execution_count": 23,
     "metadata": {},
     "output_type": "execute_result"
    }
   ],
   "source": [
    "algo = SVD()\n",
    "cross_validate(algo, data, measures=['RMSE'], cv=5, verbose=True)"
   ]
  },
  {
   "cell_type": "markdown",
   "metadata": {},
   "source": [
    "### 2. Для лучшего алгоритма по метрике RMSE рассчитать метрики precision@k and  recall@k для k=5 и порога отсечения 3.52, усредненные по всем пользователям"
   ]
  },
  {
   "cell_type": "markdown",
   "metadata": {},
   "source": [
    "> Лучший алгоритм по RMSE - SVD"
   ]
  },
  {
   "cell_type": "code",
   "execution_count": 31,
   "metadata": {},
   "outputs": [
    {
     "name": "stdout",
     "output_type": "stream",
     "text": [
      "precision@k:  0.7243807501769298\n",
      "recall@k:  0.41030039349400693\n"
     ]
    }
   ],
   "source": [
    "def precision_recall_at_k(predictions, k, threshold):\n",
    "    \"\"\"Return precision and recall at k metrics for each user\"\"\"\n",
    "\n",
    "    # First map the predictions to each user.\n",
    "    user_est_true = defaultdict(list)\n",
    "    for uid, _, true_r, est, _ in predictions:\n",
    "        user_est_true[uid].append((est, true_r))\n",
    "\n",
    "    precisions = dict()\n",
    "    recalls = dict()\n",
    "    for uid, user_ratings in user_est_true.items():\n",
    "\n",
    "        # Sort user ratings by estimated value\n",
    "        user_ratings.sort(key=lambda x: x[0], reverse=True)\n",
    "\n",
    "        # Number of relevant items\n",
    "        n_rel = sum((true_r >= threshold) for (_, true_r) in user_ratings)\n",
    "\n",
    "        # Number of recommended items in top k\n",
    "        n_rec_k = sum((est >= threshold) for (est, _) in user_ratings[:k])\n",
    "\n",
    "        # Number of relevant and recommended items in top k\n",
    "        n_rel_and_rec_k = sum(((true_r >= threshold) and (est >= threshold))\n",
    "                              for (est, true_r) in user_ratings[:k])\n",
    "\n",
    "        # Precision@K: Proportion of recommended items that are relevant\n",
    "        # When n_rec_k is 0, Precision is undefined. We here set it to 0.\n",
    "\n",
    "        precisions[uid] = n_rel_and_rec_k / n_rec_k if n_rec_k != 0 else 0\n",
    "\n",
    "        # Recall@K: Proportion of relevant items that are recommended\n",
    "        # When n_rel is 0, Recall is undefined. We here set it to 0.\n",
    "\n",
    "        recalls[uid] = n_rel_and_rec_k / n_rel if n_rel != 0 else 0\n",
    "\n",
    "    return precisions, recalls\n",
    "\n",
    "k = 5\n",
    "threshold = 3.52\n",
    "algo = SVD()\n",
    "algo.fit(trainset)\n",
    "predictions = algo.test(testset)\n",
    "precision_k, recall_k = precision_recall_at_k(predictions, k, threshold)\n",
    "print('precision@k: ',sum(prec for prec in precision_k.values()) / len(precision_k))\n",
    "print('recall@k: ', sum(rec for rec in recall_k.values()) / len(recall_k))"
   ]
  },
  {
   "cell_type": "markdown",
   "metadata": {},
   "source": [
    "### 3. Для заданного пользователя (номер в списке) c помощью лучшего алгоритма по метрике RMSE вывести топ-5 рекомендаций (те фильмы, для которых у пользователя  нет оценки) с названиями, датой выхода и рейтингом."
   ]
  },
  {
   "cell_type": "code",
   "execution_count": 4,
   "metadata": {},
   "outputs": [],
   "source": [
    "n = 5\n",
    "USER_NUM = '29'"
   ]
  },
  {
   "cell_type": "code",
   "execution_count": 8,
   "metadata": {},
   "outputs": [],
   "source": [
    "def get_top_n(predictions, n, USER_NUM):\n",
    "    \"\"\"Return the top-N recommendation for user from a set of predictions.\n",
    "    Args:\n",
    "        predictions(list of Prediction objects): The list of predictions, as\n",
    "            returned by the test method of an algorithm.\n",
    "        n(int): The number of recommendation to output for each user.\n",
    "        USER_NUM: User_id\n",
    "    Returns:\n",
    "    A dict where keys are user (raw) ids and values are lists of tuples:\n",
    "        [(raw item id, rating estimation), ...] of size n.\n",
    "    \"\"\"\n",
    "\n",
    "    # First map the predictions to each user.\n",
    "    top_n = defaultdict(list)\n",
    "    for uid, iid, true_r, est, _ in predictions:\n",
    "        if(uid == USER_NUM):\n",
    "            top_n[uid].append((iid, est))\n",
    "\n",
    "    # Then sort the predictions for each user and retrieve the k highest ones.\n",
    "    for uid, user_ratings in top_n.items():\n",
    "        user_ratings.sort(key=lambda x: x[1], reverse=True)\n",
    "        top_n[uid] = user_ratings[:n]\n",
    "\n",
    "    return top_n\n",
    "\n",
    "\n",
    "# First train an SVD algorithm on the movielens dataset.\n",
    "data = Dataset.load_builtin('ml-100k')\n",
    "trainset = data.build_full_trainset()\n",
    "algo = SVD()\n",
    "algo.fit(trainset)\n",
    "\n",
    "# Than predict ratings for all pairs (u, i) that are NOT in the training set.\n",
    "testset = trainset.build_anti_testset()\n",
    "predictions = algo.test(testset)\n",
    "\n",
    "top_n = get_top_n(predictions, n, USER_NUM)"
   ]
  },
  {
   "cell_type": "code",
   "execution_count": 10,
   "metadata": {},
   "outputs": [
    {
     "data": {
      "text/plain": [
       "defaultdict(list,\n",
       "            {'29': [('169', 4.728509699096828),\n",
       "              ('515', 4.658506943284033),\n",
       "              ('408', 4.650600332795367),\n",
       "              ('114', 4.591927963624505),\n",
       "              ('64', 4.553323711787194)]})"
      ]
     },
     "execution_count": 10,
     "metadata": {},
     "output_type": "execute_result"
    }
   ],
   "source": [
    "top_n"
   ]
  },
  {
   "cell_type": "code",
   "execution_count": 14,
   "metadata": {},
   "outputs": [],
   "source": [
    "file_path = os.path.expanduser('~/.surprise_data/ml-100k/ml-100k/u.item')\n",
    "films_data = pd.read_csv(file_path, sep=\"|\", encoding='ansi', usecols=[0,1,2], names=['id','name', 'date'])"
   ]
  },
  {
   "cell_type": "code",
   "execution_count": 16,
   "metadata": {},
   "outputs": [
    {
     "name": "stdout",
     "output_type": "stream",
     "text": [
      "        id                                       name         date\n",
      "0        1                           Toy Story (1995)  01-Jan-1995\n",
      "1        2                           GoldenEye (1995)  01-Jan-1995\n",
      "2        3                          Four Rooms (1995)  01-Jan-1995\n",
      "3        4                          Get Shorty (1995)  01-Jan-1995\n",
      "4        5                             Copycat (1995)  01-Jan-1995\n",
      "...    ...                                        ...          ...\n",
      "1677  1678                          Mat' i syn (1997)  06-Feb-1998\n",
      "1678  1679                           B. Monkey (1998)  06-Feb-1998\n",
      "1679  1680                       Sliding Doors (1998)  01-Jan-1998\n",
      "1680  1681                        You So Crazy (1994)  01-Jan-1994\n",
      "1681  1682  Scream of Stone (Schrei aus Stein) (1991)  08-Mar-1996\n",
      "\n",
      "[1682 rows x 3 columns]\n"
     ]
    }
   ],
   "source": [
    "print(films_data)"
   ]
  },
  {
   "cell_type": "code",
   "execution_count": 17,
   "metadata": {},
   "outputs": [
    {
     "name": "stdout",
     "output_type": "stream",
     "text": [
      "User 29\n",
      "169    ('Wrong Trousers, The (1993)    ', '01-Jan-1993') 4.729     \n",
      "515    ('Boot, Das (1981)              ', '04-Apr-1997') 4.659     \n",
      "408    ('Close Shave, A (1995)         ', '28-Apr-1996') 4.651     \n",
      "114    ('Wallace & Gromit: The Best of Aardman Animation (1996)', '05-Apr-1996') 4.592     \n",
      "64     ('Shawshank Redemption, The (1994)', '01-Jan-1994') 4.553     \n"
     ]
    }
   ],
   "source": [
    "print(\"User\", USER_NUM)\n",
    "for id, score in top_n[USER_NUM]:\n",
    "    name = films_data.at[int(id) - 1, 'name']\n",
    "    date = films_data.at[int(id) - 1, 'date']\n",
    "    print(\"{:<6} ('{:<30}', '{:<11}') {:<10.3f}\".format(id, name, date, score))"
   ]
  }
 ],
 "metadata": {
  "kernelspec": {
   "display_name": "Python 3",
   "language": "python",
   "name": "python3"
  },
  "language_info": {
   "codemirror_mode": {
    "name": "ipython",
    "version": 3
   },
   "file_extension": ".py",
   "mimetype": "text/x-python",
   "name": "python",
   "nbconvert_exporter": "python",
   "pygments_lexer": "ipython3",
   "version": "3.8.3"
  }
 },
 "nbformat": 4,
 "nbformat_minor": 2
}
